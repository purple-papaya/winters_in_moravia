{
 "cells": [
  {
   "cell_type": "code",
   "execution_count": null,
   "id": "bf27ff2c",
   "metadata": {},
   "outputs": [],
   "source": [
    "import warnings\n",
    "\n",
    "import pandas as pd\n",
    "import numpy as np\n",
    "\n",
    "import matplotlib.pyplot as plt\n",
    "import seaborn as sns\n",
    "from windrose import WindroseAxes\n",
    "\n",
    "warnings.filterwarnings('ignore')\n",
    "sns.set_style('whitegrid')"
   ]
  },
  {
   "cell_type": "code",
   "execution_count": null,
   "id": "bb67924a",
   "metadata": {},
   "outputs": [],
   "source": [
    "def select_period(df, year, month_num):\n",
    "    '''\n",
    "    Selects a year from a date range.\n",
    "    df: Dataframe with datetime index\n",
    "    year: Integer of year\n",
    "    month_num: Integer of month number\n",
    "    '''\n",
    "    \n",
    "    return df.loc[(df.index.year == year) & (df.index.month == month_num)]"
   ]
  },
  {
   "cell_type": "code",
   "execution_count": null,
   "id": "911cf7c5",
   "metadata": {},
   "outputs": [],
   "source": [
    "def exclude_outliers(df):\n",
    "    '''\n",
    "    Excludes outliers using IQR.\n",
    "    df: Dataframe from which outliers are to be excluded\n",
    "    '''\n",
    "\n",
    "    # Calculate the 25th and 75th percentiles (Q1 and Q3)\n",
    "    Q1 = df.quantile(0.25)\n",
    "    Q3 = df.quantile(0.75)\n",
    "\n",
    "    # Calculate the interquartile range (IQR)\n",
    "    IQR = Q3 - Q1\n",
    "\n",
    "    # Identify outliers as observations outside the range (Q1 - 1.5 * IQR) to (Q3 + 1.5 * IQR)\n",
    "    outliers = (df < (Q1 - 1.5 * IQR)) | (df > (Q3 + 1.5 * IQR))\n",
    "\n",
    "    # Exclude the outliers from the dataframe\n",
    "    return (\n",
    "        df[\n",
    "            ~(outliers).any(axis=1)\n",
    "        ]\n",
    "        .reset_index(drop=True)\n",
    "        .dropna()\n",
    "    )"
   ]
  },
  {
   "cell_type": "code",
   "execution_count": null,
   "id": "5728738b",
   "metadata": {},
   "outputs": [],
   "source": [
    "def double_regplot(df, month):\n",
    "    '''\n",
    "    Creates double y-axis regplots for different months.\n",
    "    df: Dataframe for a heatmap\n",
    "    month: String of the month name\n",
    "    '''\n",
    "\n",
    "    # Initiate plot\n",
    "    _, ax1 = plt.subplots()\n",
    "    ax2 = ax1.twinx()\n",
    "\n",
    "    # Create first y-axis regplot\n",
    "    ax1.set_ylabel('Sunshine [h]', color='orange')\n",
    "    ax1.tick_params(axis='y', colors='orange')\n",
    "    ax1 = plt.gca()\n",
    "    ax1.set_title(f'Relationship between Sunshine and Average Temperature for {month}\\n from 1988 to 2021 in Straznice, South Moravia, Czechia')\n",
    "    sns.regplot(data=df.loc[df['Month'] == month].reset_index(), x='Date', y='Sunshine_h', color='orange', ci=None, ax=ax1)\n",
    "\n",
    "    # Create second y-axis regplot\n",
    "    sns.regplot(data=df.loc[df['Month'] == month].reset_index(), x='Date', y='Temp_Avg_C', color='red', ci=None, ax=ax2)\n",
    "    ax2.set_ylabel('Average Temperature [C]', color='red')\n",
    "    ax2.tick_params(axis='y', colors='red')\n",
    "    ax2.grid(False)\n",
    "\n",
    "    plt.show()"
   ]
  },
  {
   "cell_type": "code",
   "execution_count": null,
   "id": "dadf95f8",
   "metadata": {},
   "outputs": [],
   "source": [
    "def plot_bar_point(df, month):\n",
    "    '''\n",
    "    Creates double y-axis  bar and point plots for different months.\n",
    "    df: Dataframe for a heatmap\n",
    "    month: String of the month name\n",
    "    '''\n",
    "\n",
    "    # Initiate the first plot\n",
    "    _, ax1 = plt.subplots()\n",
    "    ax1 = plt.gca()\n",
    "    ax1.set_title(f'Rain Fall and Humidity for {month}\\n from 1988 to 2021 in Straznice, South Moravia, Czechia')\n",
    "    ax1.set_xticklabels(ax1.get_xticklabels(), rotation=90)\n",
    "    ax2 = ax1.twinx()\n",
    "\n",
    "    sns.barplot(x='Date', y='Rain_mm', data=df.loc[df['Month'] == month].reset_index(), color='blue', ci=None, ax=ax1)\n",
    "    ax1.set_ylabel('Rain [mm]', color='blue')\n",
    "    ax1.tick_params(axis='y', colors='blue')\n",
    "\n",
    "    # Initiate the second plot\n",
    "    sns.pointplot(x='Date', y='Humidity_Avg_Percent', data=df.loc[df['Month'] == month].reset_index(), color='magenta', markers='x', ax=ax2)\n",
    "    ax2.set_ylabel('Humidity [%]', color='magenta')\n",
    "    ax2.tick_params(axis='y', colors='magenta')\n",
    "    ax2.grid(False)\n",
    "\n",
    "    plt.show()"
   ]
  },
  {
   "cell_type": "code",
   "execution_count": null,
   "id": "23e04ece",
   "metadata": {},
   "outputs": [],
   "source": [
    "def plot_bar_line(df, month):\n",
    "    '''\n",
    "    Creates double y-axis bar and line plots for different months.\n",
    "    df: Dataframe for a heatmap\n",
    "    month: String of the month name\n",
    "    '''\n",
    "\n",
    "    # Initiate plot\n",
    "    _, ax1 = plt.subplots()\n",
    "\n",
    "    # Define the bar plot\n",
    "    df.loc[df['Month'] == month, ['Snow_Height_cm', 'New_Snow_Height_cm']].plot(kind='bar', stacked=True, color=['steelblue','cyan'], ax=ax1)\n",
    "    ax1.set_title(f'Snow Height, New Snow and Min Temperature for {month}\\n from 1988 to 2021 in Straznice, South Moravia, Czechia')\n",
    "    ax1.set_ylabel('Snow Height [cm]', color='steelblue')\n",
    "    ax1.set_xlabel('Year')\n",
    "    ax1.tick_params(axis='y', colors='steelblue')\n",
    "    h, _ = ax1.get_legend_handles_labels()\n",
    "    ax1.legend(h, ['Snow Height', 'New Snow Height'], fontsize='xx-small', bbox_to_anchor=(0.5, 1))\n",
    "\n",
    "    # Define the line plot\n",
    "    ax2 = ax1.twinx()\n",
    "    ax2.plot(df.loc[df['Month'] == month, ['Temp_Min_C']].values, color='blue', marker='x')\n",
    "    ax2.set_ylabel('Min Temperature [C]', color='blue')\n",
    "    ax2.tick_params(axis='y', colors='blue')\n",
    "    ax2.grid(False)\n",
    "\n",
    "    plt.show()"
   ]
  },
  {
   "cell_type": "code",
   "execution_count": null,
   "id": "284ba28d",
   "metadata": {},
   "outputs": [],
   "source": [
    "def plot_windrose_period(df, month, period, start, stop):\n",
    "    '''\n",
    "    Creates a windrose plot for a period of time in a given time interval.\n",
    "    df: Dataframe for winter months\n",
    "    month: String of month name\n",
    "    period: Integer of period length in years\n",
    "    start: Integer of start year interval\n",
    "    stop: Integer of end year interval\n",
    "    '''\n",
    "\n",
    "    # Setting up an interval\n",
    "    y5_periods = list(range(start, stop, period))\n",
    "\n",
    "    # Plotting a windrose for each period\n",
    "    for i in y5_periods:\n",
    "\n",
    "        ax = WindroseAxes.from_ax()\n",
    "\n",
    "        is_month = df['Month'] == month\n",
    "        is_period = df.index.year.isin([i, i+(period-1)])\n",
    "        \n",
    "        ax.bar(\n",
    "            df.loc[is_month & is_period, 'Wind_Max_Direction_Dg'], \n",
    "            df.loc[is_month & is_period, 'Wind_Speed_Max_ms'], \n",
    "            normed=True, \n",
    "            opening=0.8, \n",
    "            edgecolor='white',\n",
    "            bins=np.arange(7, 12, 1)\n",
    "            )\n",
    "        ax.set_title(f'Direction of Max Wind Speed in {month} \\nbetween {i} and {i+(period-1)} in Straznice, South Moravia, Czechia')\n",
    "        ax.set_legend()\n",
    "\n",
    "        plt.show()"
   ]
  },
  {
   "cell_type": "code",
   "execution_count": null,
   "id": "1f3b7a8f",
   "metadata": {
    "scrolled": true
   },
   "outputs": [],
   "source": [
    "weather_all = pd.read_csv('weather_all.csv')"
   ]
  },
  {
   "attachments": {},
   "cell_type": "markdown",
   "id": "c383b239",
   "metadata": {},
   "source": [
    "#### Imputing missing values with each year's mean and deleting outliers"
   ]
  },
  {
   "cell_type": "code",
   "execution_count": null,
   "id": "15bc130b",
   "metadata": {},
   "outputs": [],
   "source": [
    "years = list(range(1988, 2022))\n",
    "months = [12, 1, 2]\n",
    "moravia_weather = weather_all.copy()"
   ]
  },
  {
   "cell_type": "code",
   "execution_count": null,
   "id": "5ab96f8d",
   "metadata": {},
   "outputs": [],
   "source": [
    "for y in years:\n",
    "    for m in months:\n",
    "        selected_period = select_period(moravia_weather, y, m)\n",
    "\n",
    "        is_year = moravia_weather.index.year == y\n",
    "        is_month = moravia_weather.index.month == m\n",
    "        \n",
    "        moravia_weather.loc[(is_year) & (is_month)] = exclude_outliers(select_period(moravia_weather, y, m))\n",
    "        period_mean = selected_period.mean()\n",
    "        moravia_weather.loc[(is_year) & (is_month)] = select_period(moravia_weather, y, m).where(pd.notna, period_mean, axis=1)\n",
    "\n",
    "# Re-instating original max wind direction data\n",
    "moravia_weather = moravia_weather.loc[moravia_weather.index.year.isin(years)].drop('Wind_Max_Direction_Dg', axis=1)\n",
    "moravia_weather['Wind_Max_Direction_Dg'] = weather_all.loc[weather_all.index.year.isin(years), 'Wind_Max_Direction_Dg']"
   ]
  },
  {
   "attachments": {},
   "cell_type": "markdown",
   "id": "7459046d",
   "metadata": {},
   "source": [
    "#### Examining winter months"
   ]
  },
  {
   "cell_type": "code",
   "execution_count": null,
   "id": "2299221a",
   "metadata": {},
   "outputs": [],
   "source": [
    "# Filtering for winter months\n",
    "winter_months = (\n",
    "    moravia_weather.loc[moravia_weather.index.month.isin([12,1,2])]\n",
    "    .assign(Month=np.nan)\n",
    "    )\n",
    "\n",
    "# Creating a month identity column\n",
    "winter_months.loc[winter_months.index.month == 12, 'Month'] = 'December'\n",
    "winter_months.loc[winter_months.index.month == 1, 'Month'] = 'January'\n",
    "winter_months.loc[winter_months.index.month == 2, 'Month'] = 'February'"
   ]
  },
  {
   "attachments": {},
   "cell_type": "markdown",
   "id": "009fb187",
   "metadata": {},
   "source": [
    "##### Temperature Heatmap"
   ]
  },
  {
   "cell_type": "code",
   "execution_count": null,
   "id": "5dc06952",
   "metadata": {},
   "outputs": [],
   "source": [
    "winter_heatmap = winter_months.groupby([winter_months.index.year, 'Month']).mean().reset_index().set_index('Date')"
   ]
  },
  {
   "cell_type": "code",
   "execution_count": null,
   "id": "2efddb0a",
   "metadata": {},
   "outputs": [],
   "source": [
    "# Initiate plot\n",
    "fig, (ax1, ax2, ax3) = plt.subplots(1,3, figsize=(18, 6))\n",
    "fig.suptitle('Heatmap of Mean Temperature in Winter Months from 1988 to 2021 in Straznice, South Moravia, Czechia', fontsize=16)\n",
    "\n",
    "# Create heatmaps\n",
    "sns.heatmap(winter_heatmap.loc[winter_heatmap['Month'] == 'December', ['Temp_Min_C', 'Temp_Avg_C', 'Temp_Max_C']].T, cmap='coolwarm', linewidths=.5, ax=ax1)\n",
    "sns.heatmap(winter_heatmap.loc[winter_heatmap['Month'] == 'January', ['Temp_Min_C', 'Temp_Avg_C', 'Temp_Max_C']].T, cmap='coolwarm', linewidths=.5, ax=ax2)\n",
    "sns.heatmap(winter_heatmap.loc[winter_heatmap['Month'] == 'February', ['Temp_Min_C', 'Temp_Avg_C', 'Temp_Max_C']].T, cmap='coolwarm', linewidths=.5, ax=ax3)\n",
    "\n",
    "# Set subplot titles\n",
    "ax1.set_title('December')\n",
    "ax2.set_title('January')\n",
    "ax3.set_title('February')\n",
    "\n",
    "plt.show()"
   ]
  },
  {
   "attachments": {},
   "cell_type": "markdown",
   "id": "24a3cdea",
   "metadata": {},
   "source": [
    "##### Temperature Regression"
   ]
  },
  {
   "cell_type": "code",
   "execution_count": null,
   "id": "711d8544",
   "metadata": {},
   "outputs": [],
   "source": [
    "winter_reg = pd.melt(winter_heatmap.reset_index(), id_vars=['Date', 'Month'], value_vars=['Temp_Avg_C','Temp_Max_C','Temp_Min_C'], var_name='Temperature Type', value_name='Temperature [C]')"
   ]
  },
  {
   "cell_type": "code",
   "execution_count": null,
   "id": "fa4ce75a",
   "metadata": {},
   "outputs": [],
   "source": [
    "# Create a lmplot\n",
    "lm = sns.lmplot(data=winter_reg, x='Date', y='Temperature [C]', hue='Temperature Type', col='Month', col_order=['December', 'January', 'February'], ci=None, fit_reg=True)\n",
    "\n",
    "# Set main title\n",
    "fig = lm.fig \n",
    "fig.suptitle('Linear Regression of Temperatures in Winter Months from 1988 to 2021 in Straznice, South Moravia, Czechia', fontsize=16)\n",
    "fig.subplots_adjust(top=0.88)\n",
    "\n",
    "plt.show()"
   ]
  },
  {
   "attachments": {},
   "cell_type": "markdown",
   "id": "bc1057d1",
   "metadata": {},
   "source": [
    "##### Sunshine and Temperature Regression"
   ]
  },
  {
   "cell_type": "code",
   "execution_count": null,
   "id": "a88ac5a0",
   "metadata": {},
   "outputs": [],
   "source": [
    "double_regplot(winter_heatmap, 'December')"
   ]
  },
  {
   "cell_type": "code",
   "execution_count": null,
   "id": "4411c1ca",
   "metadata": {},
   "outputs": [],
   "source": [
    "double_regplot(winter_heatmap, 'January')"
   ]
  },
  {
   "cell_type": "code",
   "execution_count": null,
   "id": "bb289b28",
   "metadata": {},
   "outputs": [],
   "source": [
    "double_regplot(winter_heatmap, 'February')"
   ]
  },
  {
   "attachments": {},
   "cell_type": "markdown",
   "id": "98d17696",
   "metadata": {},
   "source": [
    "##### Wind Speed Line"
   ]
  },
  {
   "cell_type": "code",
   "execution_count": null,
   "id": "783ac6bf",
   "metadata": {},
   "outputs": [],
   "source": [
    "winter_line = pd.melt(winter_heatmap.reset_index(), id_vars=['Date', 'Month'], value_vars=['Wind_Avg_Speed_ms','Wind_Speed_Max_ms'], var_name='Wind Speed Type', value_name='Wind Speed [m/s]')"
   ]
  },
  {
   "cell_type": "code",
   "execution_count": null,
   "id": "5231ead7",
   "metadata": {},
   "outputs": [],
   "source": [
    "# Initiate plot\n",
    "fig, (ax1, ax2, ax3) = plt.subplots(1,3, figsize=(18, 6))\n",
    "fig.suptitle('Wind Speed in Winter Months from 1988 to 2021 in Straznice, South Moravia, Czechia', fontsize=16)\n",
    "fig.subplots_adjust(top=0.88)\n",
    "\n",
    "# Create line plots\n",
    "sns.lineplot(data=winter_line.loc[winter_line['Month'] == 'December'], x='Date', y='Wind Speed [m/s]', hue='Wind Speed Type', palette=['blue','red'], ax=ax1)\n",
    "sns.lineplot(data=winter_line.loc[winter_line['Month'] == 'January'], x='Date', y='Wind Speed [m/s]', hue='Wind Speed Type', palette=['blue','red'], ax=ax2)\n",
    "sns.lineplot(data=winter_line.loc[winter_line['Month'] == 'February'], x='Date', y='Wind Speed [m/s]', hue='Wind Speed Type', palette=['blue','red'], ax=ax3)\n",
    "\n",
    "# Rename legend items\n",
    "h, _ = ax1.get_legend_handles_labels()\n",
    "ax1.legend(h, ['Average Wind Speed [m/s]', 'Max Wind Speed [m/s]'])\n",
    "ax2.legend(h, ['Average Wind Speed [m/s]', 'Max Wind Speed [m/s]'])\n",
    "ax3.legend(h, ['Average Wind Speed [m/s]', 'Max Wind Speed [m/s]'])\n",
    "\n",
    "# Set subplot titles\n",
    "ax1.set_title('December')\n",
    "ax2.set_title('January')\n",
    "ax3.set_title('February')\n",
    "\n",
    "plt.show()"
   ]
  },
  {
   "attachments": {},
   "cell_type": "markdown",
   "id": "5768d3a7",
   "metadata": {},
   "source": [
    "##### Rain Fall and Humidity Bar and Point"
   ]
  },
  {
   "cell_type": "code",
   "execution_count": null,
   "id": "ec4de393",
   "metadata": {},
   "outputs": [],
   "source": [
    "plot_bar_point(winter_heatmap, 'December')"
   ]
  },
  {
   "cell_type": "code",
   "execution_count": null,
   "id": "3149db1f",
   "metadata": {},
   "outputs": [],
   "source": [
    "plot_bar_point(winter_heatmap, 'January')"
   ]
  },
  {
   "cell_type": "code",
   "execution_count": null,
   "id": "1322898c",
   "metadata": {},
   "outputs": [],
   "source": [
    "plot_bar_point(winter_heatmap, 'February')"
   ]
  },
  {
   "attachments": {},
   "cell_type": "markdown",
   "id": "7a0e6efb",
   "metadata": {},
   "source": [
    "##### (New) Snow Height and Min Temperature Bar and Line"
   ]
  },
  {
   "cell_type": "code",
   "execution_count": null,
   "id": "8020a11b",
   "metadata": {},
   "outputs": [],
   "source": [
    "plot_bar_line(winter_heatmap, 'December')"
   ]
  },
  {
   "cell_type": "code",
   "execution_count": null,
   "id": "cedef8c2",
   "metadata": {},
   "outputs": [],
   "source": [
    "plot_bar_line(winter_heatmap, 'January')"
   ]
  },
  {
   "cell_type": "code",
   "execution_count": null,
   "id": "366a5b4f",
   "metadata": {},
   "outputs": [],
   "source": [
    "plot_bar_line(winter_heatmap, 'February')"
   ]
  },
  {
   "attachments": {},
   "cell_type": "markdown",
   "id": "8542a886",
   "metadata": {},
   "source": [
    "##### Windrose of Max Speed Wind Direction "
   ]
  },
  {
   "cell_type": "code",
   "execution_count": null,
   "metadata": {},
   "outputs": [],
   "source": [
    "plot_windrose_period(winter_months, 'December', 5, 1999, 2021)"
   ]
  },
  {
   "cell_type": "code",
   "execution_count": null,
   "id": "c46a1fa2",
   "metadata": {},
   "outputs": [],
   "source": [
    "plot_windrose_period(winter_months, 'January', 5, 1999, 2021)"
   ]
  },
  {
   "cell_type": "code",
   "execution_count": null,
   "id": "92d76193",
   "metadata": {},
   "outputs": [],
   "source": [
    "plot_windrose_period(winter_months, 'February', 5, 1999, 2021)"
   ]
  }
 ],
 "metadata": {
  "kernelspec": {
   "display_name": "winters_in_moravia",
   "language": "python",
   "name": "python3"
  },
  "language_info": {
   "codemirror_mode": {
    "name": "ipython",
    "version": 3
   },
   "file_extension": ".py",
   "mimetype": "text/x-python",
   "name": "python",
   "nbconvert_exporter": "python",
   "pygments_lexer": "ipython3",
   "version": "3.9.7"
  },
  "vscode": {
   "interpreter": {
    "hash": "5b076731e236e9d2a7ac191768322315485fa2d20303961e08439f4e7c54dafc"
   }
  }
 },
 "nbformat": 4,
 "nbformat_minor": 5
}
